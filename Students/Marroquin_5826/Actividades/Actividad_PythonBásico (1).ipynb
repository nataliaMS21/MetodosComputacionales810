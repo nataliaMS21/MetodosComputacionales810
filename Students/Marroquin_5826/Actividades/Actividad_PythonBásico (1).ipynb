{
  "nbformat": 4,
  "nbformat_minor": 0,
  "metadata": {
    "colab": {
      "provenance": []
    },
    "kernelspec": {
      "name": "python3",
      "display_name": "Python 3"
    },
    "language_info": {
      "name": "python"
    }
  },
  "cells": [
    {
      "cell_type": "markdown",
      "source": [
        "# Actividad: Introducción a Python (sin librerías)\n",
        "\n",
        "---"
      ],
      "metadata": {
        "id": "ym3QAv5yfZSO"
      }
    },
    {
      "cell_type": "markdown",
      "source": [
        "## Problema 1: Números primos entre 2 y 50 con la Criba de Eratóstenes\n",
        "\n",
        "La **Criba de Eratóstenes** es un método eficiente para encontrar todos los números primos menores que un número dado. El algoritmo consiste en:\n",
        "\n",
        "1. Crear una lista de valores booleanos para representar los números del 2 al 50, todos inicialmente marcados como verdaderos.\n",
        "2. Comenzando desde el primer número primo (2), eliminar todos sus múltiplos (marcándolos como falsos).\n",
        "3. Repetir el proceso para el siguiente número no eliminado.\n",
        "4. Los números que permanezcan marcados como verdaderos son primos.\n",
        "\n",
        "Usando funciones, implementa este método y muestra en pantalla todos los números primos entre 2 y 50.\n",
        "\n"
      ],
      "metadata": {
        "id": "W0C9oNGXfwDj"
      }
    },
    {
      "cell_type": "code",
      "source": [
        "#Aqui va su código\n",
        "def criba_erastostenes(limite_superior):\n",
        "  #1. crear la lista de # booleanos y que todos los # sean verdaderos\n",
        "  es_primo = [True] * (limite_superior +1)\n",
        "  #comenzar desde 2 ádemas de que 0 y 1 no son primos\n",
        "  es_primo[0] = False\n",
        "  es_primo[1] = False\n",
        "\n",
        "  #Bucle para recorrer todos los # desde 2 hasta la raíz cuadrada de límite,\n",
        "  #así si n es no es primo, tendrá un divisor menor o igual a raíz de n\n",
        "  for i in range(2, int(limite_superior ** 0.5) + 1):\n",
        "      if es_primo[i]:\n",
        "      #eliminamos los multiplos de 2 o i\n",
        "        for j in range(i * i, limite_superior + 1, i):\n",
        "          es_primo[j] = False\n",
        "\n",
        "  #lista de los números primos\n",
        "  primos = []\n",
        "  for i in range(2, limite_superior + 1):\n",
        "    if es_primo[i]:\n",
        "      primos.append(i)\n",
        "\n",
        "  return primos\n",
        "\n",
        "# Primos del 2-50\n",
        "primos_2_50 = criba_erastostenes(50)\n",
        "print(\"primos entre 2-50:\", primos_2_50)\n",
        "#fin"
      ],
      "metadata": {
        "id": "GIk3OsqxfZ50",
        "outputId": "e8451a08-dc2b-473b-937e-99967e9f9471",
        "colab": {
          "base_uri": "https://localhost:8080/"
        }
      },
      "execution_count": 6,
      "outputs": [
        {
          "output_type": "stream",
          "name": "stdout",
          "text": [
            "primos entre 2-50: [2, 3, 5, 7, 11, 13, 17, 19, 23, 29, 31, 37, 41, 43, 47]\n"
          ]
        }
      ]
    },
    {
      "cell_type": "markdown",
      "source": [
        "## Problema 2: Aproximación de π usando la serie de Leibniz\n",
        "\n",
        "La serie de Leibniz es una forma sencilla de aproximar el valor de π:\n",
        "\n",
        "$$\n",
        "\\pi \\approx 4 \\sum_{n=0}^{N} \\frac{(-1)^n}{2n + 1}\n",
        "$$\n",
        "\n",
        "Implementa una función que realice este calculo y muestra la aproximación para distintos valores de $N$ (por ejemplo: 10, 100, 1000, 10000)."
      ],
      "metadata": {
        "id": "WzI-FhIWf2iJ"
      }
    },
    {
      "cell_type": "code",
      "source": [
        "#Aqui va su códig\n",
        "\n",
        "# definir la fn de pi\n",
        "def aproximar_pi(N):\n",
        "    #guardar la suma acomulada\n",
        "    suma = 0\n",
        "\n",
        "    for n in range(N + 1):\n",
        "      #el termino que se suma tass y se va creando la serie\n",
        "      termino = (-1) ** n / (2 * n + 1)\n",
        "      #lo esteablecemos para que se sume al total\n",
        "      suma += termino\n",
        "    #lo que está fuera de la sumatoria\n",
        "    pi_aproximado = 4 * suma\n",
        "    return pi_aproximado\n",
        "\n",
        "\n",
        "  #lista de valores que queremos probar\n",
        "valores_N = [10, 100, 1000, 10000]\n",
        "\n",
        "for N in valores_N:\n",
        "    pi_estimado = aproximar_pi(N)\n",
        "    print(\"Para N =\", N, \", π ≈\", pi_estimado)\n",
        "\n"
      ],
      "metadata": {
        "id": "DfVwDvrRf7Fz",
        "outputId": "f8fad51f-d142-44f1-a2ac-c02a2ab5fb2d",
        "colab": {
          "base_uri": "https://localhost:8080/"
        }
      },
      "execution_count": 13,
      "outputs": [
        {
          "output_type": "stream",
          "name": "stdout",
          "text": [
            "Para N = 10 , π ≈ 3.232315809405594\n",
            "Para N = 100 , π ≈ 3.1514934010709914\n",
            "Para N = 1000 , π ≈ 3.1425916543395442\n",
            "Para N = 10000 , π ≈ 3.1416926435905346\n"
          ]
        }
      ]
    },
    {
      "cell_type": "markdown",
      "source": [
        "## Problema 3: Números amigos en un rango dado\n",
        "\n",
        "Dos números naturales $a$ y $b$ se llaman **números amigos** si la suma de los divisores propios (excluyendo el número mismo) de $a$ es igual a $b$, y viceversa.\n",
        "\n",
        "Por ejemplo, 220 y 284 son números amigos porque:\n",
        "- Los divisores propios de 220 son: 1, 2, 4, 5, 10, 11, 20, 22, 44, 55, 110 → suma: 284\n",
        "- Los divisores propios de 284 son: 1, 2, 4, 71, 142 → suma: 220\n",
        "\n",
        "Escribe un programa que encuentre todos los pares de números amigos en un rango dado por el usuario (por ejemplo, entre 1 y 10000)."
      ],
      "metadata": {
        "id": "Z1-gsRbNf7jy"
      }
    },
    {
      "cell_type": "code",
      "source": [
        "#Aqui va su código\n",
        "\n",
        "# fn de suma de los divisores propios de un #\n",
        "def suma_divisores_propios(n):\n",
        "    suma = 0\n",
        "    #bucle para recorrer todos los números menores a n\n",
        "    for i in range(1, n):\n",
        "      if n % i == 0:\n",
        "          suma += i\n",
        "    return suma\n",
        "\n",
        "#rango\n",
        "inicio = int(input(\"Ingresa el inicio del rango: \"))\n",
        "fin = int(input(\"Ingresa el fin del rango: \"))\n",
        "\n",
        "#pares de amigos en ese rango\n",
        "for a in range(inicio, fin + 1):\n",
        "    #suma de los divisores de a = b\n",
        "    b = suma_divisores_propios(a)\n",
        "    #para que no se repitan\n",
        "    if b > a and b <= fin:\n",
        "    # que b sea la suma de los divisores de a\n",
        "        if suma_divisores_propios(b) == a:\n",
        "            print(f\"{a} y {b} son números amigos\")\n",
        "\n"
      ],
      "metadata": {
        "id": "m87mKCXlgGjN",
        "outputId": "add2d851-1c1b-44ef-afec-05667dd37f49",
        "colab": {
          "base_uri": "https://localhost:8080/"
        }
      },
      "execution_count": 14,
      "outputs": [
        {
          "output_type": "stream",
          "name": "stdout",
          "text": [
            "Ingresa el inicio del rango: 1\n",
            "Ingresa el fin del rango: 10000\n",
            "220 y 284 son números amigos\n",
            "1184 y 1210 son números amigos\n",
            "2620 y 2924 son números amigos\n",
            "5020 y 5564 son números amigos\n",
            "6232 y 6368 son números amigos\n"
          ]
        }
      ]
    },
    {
      "cell_type": "markdown",
      "source": [
        "\n",
        "## Problema 4: Contador de frecuencias de letras en una palabra\n",
        "\n",
        "Escribe un programa que lea una palabra ingresada por el usuario y construya un diccionario donde cada clave sea una letra de la palabra, y el valor asociado sea la cantidad de veces que esa letra aparece. Imprime el resultado.\n"
      ],
      "metadata": {
        "id": "ASKmJNuBgHIp"
      }
    },
    {
      "cell_type": "code",
      "source": [
        "#Aqui va su código\n",
        "\n",
        "# Pedimos al usuario que escriba una palabra\n",
        "palabra = input(\"Ingresa una palabra: \")\n",
        "\n",
        "# Creamos un diccionario vacío para guardar las frecuencias\n",
        "frecuencias = {}\n",
        "\n",
        "# Recorremos cada letra de la palabra\n",
        "for letra in palabra:\n",
        "    # Verificamos si la letra ya está en el diccionario\n",
        "    if letra in frecuencias:\n",
        "        # Si ya está, aumentamos su contador en 1\n",
        "        frecuencias[letra] += 1\n",
        "    else:\n",
        "        # Si no está, la agregamos con valor 1\n",
        "        frecuencias[letra] = 1\n",
        "\n",
        "\n",
        "print(\"Frecuencia de cada letra:\")\n",
        "for letra in frecuencias:\n",
        "    print(f\"{letra}: {frecuencias[letra]}\")"
      ],
      "metadata": {
        "id": "klMGSddPgUQ5",
        "outputId": "366ca731-ca65-40ef-f41e-a342d64a7207",
        "colab": {
          "base_uri": "https://localhost:8080/"
        }
      },
      "execution_count": 15,
      "outputs": [
        {
          "output_type": "stream",
          "name": "stdout",
          "text": [
            "Ingresa una palabra: Macarrones\n",
            "Frecuencia de cada letra:\n",
            "M: 1\n",
            "a: 2\n",
            "c: 1\n",
            "r: 2\n",
            "o: 1\n",
            "n: 1\n",
            "e: 1\n",
            "s: 1\n"
          ]
        }
      ]
    }
  ]
}